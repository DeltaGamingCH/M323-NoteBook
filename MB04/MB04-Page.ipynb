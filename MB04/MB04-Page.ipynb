{
 "cells": [
  {
   "cell_type": "markdown",
   "metadata": {},
   "source": [
    "# MB04\n",
    "\n",
    "## Rekursion\n",
    "- Problem wird in gleichartiges einfacheres Problem (oder mehrere gleichartige kleinere Probleme unterteilt) und dann gelöst\n",
    "\n",
    "\n",
    "Klassische Beispiele\n",
    "- Summen\n",
    "- Fakultät\n",
    "- Reihen wie Fibonacci\n"
   ]
  }
 ],
 "metadata": {
  "kernelspec": {
   "display_name": "Python 3",
   "language": "python",
   "name": "python3"
  },
  "language_info": {
   "codemirror_mode": {
    "name": "ipython",
    "version": 3
   },
   "file_extension": ".py",
   "mimetype": "text/x-python",
   "name": "python",
   "nbconvert_exporter": "python",
   "pygments_lexer": "ipython3",
   "version": "3.13.0"
  }
 },
 "nbformat": 4,
 "nbformat_minor": 2
}
