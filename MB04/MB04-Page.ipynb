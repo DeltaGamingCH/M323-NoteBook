{
 "cells": [
  {
   "cell_type": "markdown",
   "metadata": {},
   "source": [
    "# MB04\n",
    "\n",
    "## Rekursion\n",
    "- Problem wird in gleichartiges einfacheres Problem (oder mehrere gleichartige kleinere Probleme unterteilt) und dann gelöst\n",
    "\n",
    "\n",
    "Klassische Beispiele\n",
    "- Summen\n",
    "- Fakultät\n",
    "- Reihen wie Fibonacci\n",
    "\n",
    "## Was ist Rekursion\n",
    "Wie viel mal soll es Vereinfacht werden? \n",
    "- Bis man die Einzelschritte hat, man weiss es ist fertig Vereinfacht, bis es nicht mehr vereinfacht werden kann, z.B. 1+1 kann nicht weiter vereinfacht werden.\n",
    "\n",
    "### Vorteile\n",
    "- Kann nicht nachvollzogen werden, was was genau macht\n",
    "\n",
    "### Nachteile\n",
    "- Aufwänderiger\n",
    "- Beim aufrufen von immer wiederaufrufen, haben wir irgentwann einen Stack Overflow (kein Memory mehr). \n",
    "\n",
    "### Repetitionsaufgabe\n",
    "- BinarySearch: Eine Liste halbieren und immer weiter herunterbrechen, bis die Zahl gefunden wird\n",
    "- List sort, list 50 einträge / 2 (gesuchte zahl ist 32)\n",
    "    - Wenn liste grösser oder kleiner als 25, grösser als 25, heisst rechte seite der Liste anschauen, danach wieder durch 2 teilen\n",
    "    - (25 - 50)"
   ]
  }
 ],
 "metadata": {
  "kernelspec": {
   "display_name": "Python 3",
   "language": "python",
   "name": "python3"
  },
  "language_info": {
   "codemirror_mode": {
    "name": "ipython",
    "version": 3
   },
   "file_extension": ".py",
   "mimetype": "text/x-python",
   "name": "python",
   "nbconvert_exporter": "python",
   "pygments_lexer": "ipython3",
   "version": "3.13.0"
  }
 },
 "nbformat": 4,
 "nbformat_minor": 2
}
