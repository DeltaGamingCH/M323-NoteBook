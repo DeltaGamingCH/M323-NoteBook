{
 "cells": [
  {
   "cell_type": "markdown",
   "metadata": {},
   "source": [
    "# MB02\n",
    "## Call by Value"
   ]
  },
  {
   "cell_type": "code",
   "execution_count": 3,
   "metadata": {},
   "outputs": [
    {
     "name": "stdout",
     "output_type": "stream",
     "text": [
      "8\n",
      "3 5\n"
     ]
    }
   ],
   "source": [
    "# Example: Call by value, string or ints\n",
    "a = 3\n",
    "b = 5\n",
    "\n",
    "def sum(x,y):\n",
    "    x = x+y\n",
    "    return x\n",
    "\n",
    "print(sum(a,b))\n",
    "print(a, b)"
   ]
  },
  {
   "cell_type": "markdown",
   "metadata": {},
   "source": [
    "## Call by reference"
   ]
  },
  {
   "cell_type": "markdown",
   "metadata": {},
   "source": [
    "Funktion arbeitet direkt auf den original daten und verändert in den Funktion die original daten. \n",
    "\n",
    "liste wird in l eingegeben. "
   ]
  },
  {
   "cell_type": "code",
   "execution_count": 2,
   "metadata": {},
   "outputs": [
    {
     "name": "stdout",
     "output_type": "stream",
     "text": [
      "[0, 23, 44, 6, 51]\n",
      "[0, 23, 44, 6, 51]\n"
     ]
    }
   ],
   "source": [
    "liste = [1, 23, 44, 6, 51];\n",
    "\n",
    "def replace(l):\n",
    "    l[0] = 0; \n",
    "    return l\n",
    "\n",
    "print(replace(liste))\n",
    "print(liste)"
   ]
  },
  {
   "cell_type": "markdown",
   "metadata": {},
   "source": [
    "## Optimierung PureFunction\n",
    "Mit users.copy() wird festgestellt, dass wenn original Daten verändert werden, und die Funktion nicht abgeschlossen ist, bleiben die Daten wie zuvor. \n",
    "Sie werden also nicht verändert, schliesst die Funktion nicht ab."
   ]
  },
  {
   "cell_type": "markdown",
   "metadata": {},
   "source": [
    "## Abstraktion\n",
    "Unter Abstraktion verstehen wir Verallgemeinerung\n",
    "\n",
    "- Kleidung für Pullover, Mützen, Hosen, Schuhe\n",
    "- Werkzeuge für Hammer, Säge, Zange\n",
    "- Wetter für Regen, Schnee, Wind, Sturm\n",
    "- Gewürze für Pfeffer, Salz, Koriander, Curry\n",
    "    - Wobei Curry bereits eine Abstraktion ist, da sie eine Gewürzmischung ist.\n",
    "\n",
    "### Wo wird Abstraktion sonst noch benutzt - z.B. Software-Entwicklung\n",
    "- Wenn wir ein Auto verkaufen, ist uns egal was für Merkmale unsere Kunden haben. \n",
    "- Bei einem Coiffure vielleicht durchaus wichtig, welche Haarfarbe oder Haarlänge unsere Kunden haben, z.B. Herrensalon, Frauensalon, etc. \n",
    "\n",
    "Bei Abstraktion, welche Merkmale brauchen wir aus der realen Welt? \n",
    "```py\n",
    "gewuerz = [\"Pfeffer\", \"Salz\", \"Anis\", \"Curry\", \"Safran\"]\n",
    "```\n"
   ]
  },
  {
   "cell_type": "markdown",
   "metadata": {},
   "source": [
    "### Abstraktion: Funktion höherer Ordnung\n",
    "Funktionen höherer Ordnung (high order functions) sind gleichberechtigt wie Objekte. Sie werden als sogenannte Bprger erster Klasse (first-class citizens) bezeichnet. \n",
    "\n",
    "Funktionen höherer Ordnung erwarten Funktionen als Argumente und/oder können Funktionen als Rückgabewerte liefern. \n",
    "\n",
    "```py\n",
    "map()\n",
    "reduce()\n",
    "filter()\n",
    "```"
   ]
  },
  {
   "cell_type": "code",
   "execution_count": null,
   "metadata": {},
   "outputs": [
    {
     "name": "stdout",
     "output_type": "stream",
     "text": [
      "5 mal 2 gibt: 10\n",
      "5 mal 3 gibt: 15\n"
     ]
    }
   ],
   "source": [
    "def mal(x): \n",
    "    def mal_x(y):\n",
    "        return x * y\n",
    "    return mal_x\n",
    "\n",
    "\n",
    "malZwei = mal(2);               # malZwei ist ein freeze von mal_x(y) mit x = 2\n",
    "malDrei = mal(3);               # malDrei ist ein freeze von mal_x(y) mit x = 3\n",
    "\n",
    "print(\"5 mal 2 gibt:\", malZwei(5));\n",
    "print(\"5 mal 3 gibt:\", malDrei(5));"
   ]
  },
  {
   "cell_type": "code",
   "execution_count": 10,
   "metadata": {},
   "outputs": [
    {
     "name": "stdout",
     "output_type": "stream",
     "text": [
      "5 durch 2 gibt: 0.4\n",
      "5 durch 3 gibt: 0.6\n"
     ]
    }
   ],
   "source": [
    "def durch(x): \n",
    "    def durch_x(y):\n",
    "        return x / y\n",
    "    return durch_x\n",
    "\n",
    "\n",
    "durchZwei = durch(2);               # malZwei ist ein freeze von mal_x(y) mit x = 2\n",
    "durchDrei = durch(3);               # malDrei ist ein freeze von mal_x(y) mit x = 3\n",
    "\n",
    "print(\"5 durch 2 gibt:\", durchZwei(5));\n",
    "print(\"5 durch 3 gibt:\", durchDrei(5));"
   ]
  },
  {
   "cell_type": "code",
   "execution_count": 12,
   "metadata": {},
   "outputs": [
    {
     "name": "stdout",
     "output_type": "stream",
     "text": [
      "25 durch 2 gibt: 12.5\n",
      "25 durch 5 gibt: 5.0\n"
     ]
    }
   ],
   "source": [
    "def durch(x): \n",
    "    def durch_x(y):\n",
    "        return y / x\n",
    "    return durch_x\n",
    "\n",
    "\n",
    "durchZwei = durch(2);\n",
    "durchFuenf = durch(5);\n",
    "\n",
    "print(\"25 durch 2 gibt:\", durchZwei(25));\n",
    "print(\"25 durch 5 gibt:\", durchFuenf(25));\n"
   ]
  },
  {
   "cell_type": "markdown",
   "metadata": {},
   "source": [
    "### Reduce Funktion\n",
    "[Skript zu reduce](Example-ClosureReduce.py)"
   ]
  }
 ],
 "metadata": {
  "kernelspec": {
   "display_name": "Python 3",
   "language": "python",
   "name": "python3"
  },
  "language_info": {
   "codemirror_mode": {
    "name": "ipython",
    "version": 3
   },
   "file_extension": ".py",
   "mimetype": "text/x-python",
   "name": "python",
   "nbconvert_exporter": "python",
   "pygments_lexer": "ipython3",
   "version": "3.13.0"
  }
 },
 "nbformat": 4,
 "nbformat_minor": 2
}
