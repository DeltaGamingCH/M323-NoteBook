{
 "cells": [
  {
   "cell_type": "markdown",
   "metadata": {},
   "source": [
    "# MB03\n",
    "\n",
    "## Abstraktionen\n",
    "\n",
    "Variablen -> Strukturierte Datentypen (Listen, Mengen, Klassen)\n",
    "Funktionen -> Abstraktionen von mehrfach verwedbarem Code\n",
    "\n",
    "## Funktionen Höherer Ordnung\n",
    "- Auch closure funktionen genannt\n",
    "- Closures wie: \n",
    "    - map()\n",
    "    - reduce()\n",
    "- Einige Funktionen"
   ]
  },
  {
   "cell_type": "markdown",
   "metadata": {},
   "source": [
    "# Datenstrukturen\n",
    "## Set"
   ]
  },
  {
   "cell_type": "code",
   "execution_count": 3,
   "metadata": {},
   "outputs": [
    {
     "name": "stdout",
     "output_type": "stream",
     "text": [
      "set a:  {1, 2, 3, 4}\n",
      "set c: {1, 2, 3, 4, 5, 6, 7}\n",
      "set d: {1, 2, 3}\n",
      "set e: {4}\n",
      "set f: {4, 5, 'Katzen', 7, 'Hunde'}\n"
     ]
    }
   ],
   "source": [
    "# Modul 323-sw3: Beispiel1\n",
    "# Exkurs Datenstrukturen\n",
    "\n",
    "a = {1,4,3,2}\t\t            # Definition einer Menge a\n",
    "b = {7,4,6,5}\t\t            # Definition einer Menge b\n",
    "\n",
    "a.union(b)\t\t                # Methode zur Vereinigung \n",
    "print(\"set a: \", a)\t\t        # Was erwartest Du hier?\n",
    "\n",
    "c = a.union(b)\n",
    "print(\"set c:\", c)\t\t        # Was erwartest Du hier?\n",
    "\n",
    "d = a.difference(b)     \t    # Differenzmenge\n",
    "print(\"set d:\",d)\t\t\t    # liefert {1, 2, 3}\n",
    "\n",
    "e = a.intersection(b)   \t    # Schnittmenge\n",
    "print(\"set e:\",e)\t\t\t    # liefert {4}\n",
    "\n",
    "f = {7, 4, \"Hunde\",5, \"Katzen\"}\t# Definition einer gemischten Menge f\n",
    "print(\"set f:\",f)               # Sets werden automatsch sortiert\n"
   ]
  },
  {
   "cell_type": "markdown",
   "metadata": {},
   "source": [
    "## Tupel\n",
    "Tupel ist eine unveränderliche Liste. Während bei Listen Elemente hinzufügen, ersetzen und erntfernt werden können, ist ein einmal definiertes Tupel nicht mehr veränderlich - immutable. Dafür ist die interne Verwaltung mit minimalen Overhead verbunden. "
   ]
  },
  {
   "cell_type": "code",
   "execution_count": 8,
   "metadata": {},
   "outputs": [
    {
     "name": "stdout",
     "output_type": "stream",
     "text": [
      "(12, 73, 3)\n",
      "(12, 73, 3)\n",
      "(12, 73, 'hallo')\n",
      "hallo\n",
      "(11, 12, 13, 3)\n"
     ]
    }
   ],
   "source": [
    "t = (12, 73, 3)\n",
    "print(t)\n",
    "t2 = 12, 73, 3 #gleichwertig, liefert Tupel 12,73,3\n",
    "print(t2)\n",
    "\n",
    "\n",
    "t3 = 12, 73, \"hallo\"\n",
    "print(t3)\n",
    "print(t3[2])\n",
    "\n",
    "t3 = 11,12,13,3\n",
    "print(t3)\n"
   ]
  },
  {
   "cell_type": "markdown",
   "metadata": {},
   "source": [
    "## Dictionairies\n",
    "\n",
    "```py\n",
    "a = {\"rot\": \"red\", \"grün\": \"green\", \"blau\": \"blue\"}\n",
    "```\n"
   ]
  },
  {
   "cell_type": "code",
   "execution_count": 9,
   "metadata": {},
   "outputs": [
    {
     "name": "stdout",
     "output_type": "stream",
     "text": [
      "{'rot': 'red', 'grün': 'green', 'blau': 'blue'}\n",
      "\n",
      "Grün heisst auf Englisch green\n",
      "\n",
      "Rot heisst auf Englisch red\n",
      "\n",
      "Die Keys von dict sind: dict_keys(['rot', 'grün', 'blau'])\n",
      "\n",
      "Die Werte von dict sind: dict_values(['red', 'green', 'blue'])\n"
     ]
    }
   ],
   "source": [
    "# Modul 323-sw3: Beispiel3\n",
    "# Exkurs Datenstrukturen - Dictionaries\n",
    "# Dictionaries funktionieren wie Wörterbücher oder Übersetzungstabelle\n",
    "# Sie bestehen aus einer Key-Value-Kombination\n",
    "\n",
    "dict = a = {\"rot\": \"red\",\n",
    "            \"grün\": \"green\",\n",
    "            \"blau\": \"blue\"}\n",
    "\n",
    "\n",
    "\n",
    "print(dict)\n",
    "print()\n",
    "print(\"Grün heisst auf Englisch\", dict[\"grün\"]) \t\n",
    "print()\n",
    "print(\"Rot heisst auf Englisch\", dict.get(\"rot\"))\n",
    "print()\n",
    "print(\"Die Keys von dict sind:\", dict.keys())\n",
    "print()\n",
    "print(\"Die Werte von dict sind:\", dict.values())"
   ]
  },
  {
   "cell_type": "markdown",
   "metadata": {},
   "source": [
    "## Funktion höherer Ordnung: filter()\n",
    "Kann aus iterierbaren Datenstruktur gezielt Elemente selektieren"
   ]
  },
  {
   "cell_type": "code",
   "execution_count": null,
   "metadata": {},
   "outputs": [],
   "source": [
    "alter = [12, 3, 6, 17, 34, 45, 56, 90]\n",
    "\n",
    "def checkKid(a):\n",
    "    return a < 18\n",
    "\n",
    "def checkSenior(a):\n",
    "    return a > 65\n",
    "\n",
    "\n",
    "kids = list(filter(checkKid, alter))\n",
    "\n",
    "seniors = list(filter(checkSenior, alter))\n",
    "\n",
    "print(\"Kids: \", kids)\n",
    "print(\"Senioren: \", seniors)"
   ]
  },
  {
   "cell_type": "markdown",
   "metadata": {},
   "source": [
    "# Lambda Funktionen\n",
    "- Lambda Funktion basiert auf dem Lambda-Kalkül, einem Konzept zur formalen Beschreibung mathematischer Sachverhalte. \n",
    "- Typischer Vertreter der funktionalen Programmierung\n",
    "- Lambda Funktion kann kein zweites mal wie eine Methode ausgeführt werden, es sei denn sie wird ganz ausgeschrieben, wie eine normale Berechnung ausserhalb einer `def()` Funktion."
   ]
  }
 ],
 "metadata": {
  "kernelspec": {
   "display_name": "Python 3",
   "language": "python",
   "name": "python3"
  },
  "language_info": {
   "codemirror_mode": {
    "name": "ipython",
    "version": 3
   },
   "file_extension": ".py",
   "mimetype": "text/x-python",
   "name": "python",
   "nbconvert_exporter": "python",
   "pygments_lexer": "ipython3",
   "version": "3.13.0"
  }
 },
 "nbformat": 4,
 "nbformat_minor": 2
}
